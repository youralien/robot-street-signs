{
 "cells": [
  {
   "cell_type": "markdown",
   "metadata": {},
   "source": [
    "# This notebook will make the validation sign recognition"
   ]
  },
  {
   "cell_type": "code",
   "execution_count": 1,
   "metadata": {
    "collapsed": false
   },
   "outputs": [
    {
     "name": "stderr",
     "output_type": "stream",
     "text": [
      "Using TensorFlow backend.\n"
     ]
    }
   ],
   "source": [
    "%matplotlib inline\n",
    "import seaborn as sns\n",
    "\n",
    "import numpy as np\n",
    "\n",
    "from keras.models import Sequential\n",
    "from keras.layers.core import Dense, Activation, Flatten, Dropout\n",
    "from keras.layers import Convolution2D, MaxPooling2D\n",
    "from keras.utils import np_utils\n",
    "from keras.preprocessing import text\n",
    "\n",
    "from keras.preprocessing.image import ImageDataGenerator, img_to_array, load_img\n",
    "\n",
    "from tqdm import tqdm\n",
    "\n",
    "import glob, os\n",
    "from sklearn.feature_extraction import image\n",
    "from scipy.ndimage import imread\n",
    "from PIL import Image\n",
    "\n",
    "from scipy.misc import imresize"
   ]
  },
  {
   "cell_type": "code",
   "execution_count": 2,
   "metadata": {
    "collapsed": true
   },
   "outputs": [],
   "source": [
    "img_rows, img_cols = 96, 128"
   ]
  },
  {
   "cell_type": "code",
   "execution_count": 3,
   "metadata": {
    "collapsed": true
   },
   "outputs": [],
   "source": [
    "os.chdir(\"/home/nathan/olin/spring2017/sign_follower/scripts/data/validSign2\")"
   ]
  },
  {
   "cell_type": "code",
   "execution_count": 4,
   "metadata": {
    "collapsed": false
   },
   "outputs": [],
   "source": [
    "def sliding_window(image, stepSize, windowSize):\n",
    "    # slide a window across the image\n",
    "    for y in range(0, image.shape[0], stepSize[1]):\n",
    "        if y + windowSize[1] > image.shape[0]:\n",
    "            continue\n",
    "        for x in range(0, image.shape[1], stepSize[0]):\n",
    "            if x + windowSize[0] > image.shape[1]:\n",
    "                continue\n",
    "            # yield the current window\n",
    "            yield (x, y, image[y:y + windowSize[1], x:x + windowSize[0]])"
   ]
  },
  {
   "cell_type": "code",
   "execution_count": 5,
   "metadata": {
    "collapsed": false
   },
   "outputs": [],
   "source": [
    "img  = Image.open(glob.glob(\"*.png\")[0])\n",
    "data = np.asarray(img)"
   ]
  },
  {
   "cell_type": "code",
   "execution_count": 6,
   "metadata": {
    "collapsed": false
   },
   "outputs": [],
   "source": [
    "def extract_windows(i, data):\n",
    "    steps   = [[64, 48], [128, 96], [160, 120], [128, 96 ]]\n",
    "    windows = [[64, 48], [128, 96], [160, 120], [576, 288]]\n",
    "    \n",
    "    for step, window in zip(steps, windows):        \n",
    "        for x, y, img_data in sliding_window(data, step, window):\n",
    "            new_img = Image.fromarray(imresize(img_data, (img_rows, img_cols, 3)))\n",
    "            new_img.save(\"/home/nathan/olin/spring2017/sign_follower/scripts/data/valid2/valid_{}_{}_{}_{}.png\".format(i,x,y,window))\n",
    "        \n",
    "#     new_img = Image.fromarray(img_data)\n",
    "#     new_img.show()"
   ]
  },
  {
   "cell_type": "code",
   "execution_count": null,
   "metadata": {
    "collapsed": false
   },
   "outputs": [],
   "source": [
    "# for col in range(0, 640, 160):\n",
    "#     for row in range(0, 480, 120):\n",
    "#         print (col, row)"
   ]
  },
  {
   "cell_type": "code",
   "execution_count": 7,
   "metadata": {
    "collapsed": false
   },
   "outputs": [
    {
     "name": "stderr",
     "output_type": "stream",
     "text": [
      "100%|██████████| 137/137 [01:07<00:00,  2.11it/s]\n"
     ]
    }
   ],
   "source": [
    "for i, file in enumerate(tqdm(glob.glob(\"*.png\"))):\n",
    "    data = np.asarray(Image.open(file))\n",
    "    extract_windows(i, data)"
   ]
  },
  {
   "cell_type": "code",
   "execution_count": null,
   "metadata": {
    "collapsed": true
   },
   "outputs": [],
   "source": []
  },
  {
   "cell_type": "code",
   "execution_count": null,
   "metadata": {
    "collapsed": true
   },
   "outputs": [],
   "source": [
    "# for i, file in enumerate(tqdm(glob.glob(\"*.png\"))):\n",
    "#     img  = Image.open(file)\n",
    "#     data = np.asarray(img)\n",
    "#     patches = image.extract_patches_2d(data, (img_rows, img_cols), max_patches=20)\n",
    "#     for j, patch in enumerate(patches):\n",
    "#         img = Image.fromarray(patch, 'RGB')\n",
    "#         img.save('../train2/valid2/room/maybeSign_{}_{}.png'.format(i, j))"
   ]
  }
 ],
 "metadata": {
  "anaconda-cloud": {},
  "kernelspec": {
   "display_name": "Python deep learning",
   "language": "python",
   "name": "deeplearning"
  },
  "language_info": {
   "codemirror_mode": {
    "name": "ipython",
    "version": 3
   },
   "file_extension": ".py",
   "mimetype": "text/x-python",
   "name": "python",
   "nbconvert_exporter": "python",
   "pygments_lexer": "ipython3",
   "version": "3.5.2"
  }
 },
 "nbformat": 4,
 "nbformat_minor": 2
}
